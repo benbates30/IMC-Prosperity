{
 "cells": [
  {
   "cell_type": "code",
   "execution_count": null,
   "metadata": {},
   "outputs": [],
   "source": [
    "import json"
   ]
  },
  {
   "cell_type": "code",
   "execution_count": null,
   "metadata": {},
   "outputs": [],
   "source": [
    "with open('logreg_params.json', 'r') as f:\n",
    "    logreg_dict = json.load(f)\n",
    "\n",
    "with open('dectree_params.json', 'r') as f:\n",
    "    dectree_dict = json.load(f)"
   ]
  }
 ],
 "metadata": {
  "language_info": {
   "name": "python"
  },
  "orig_nbformat": 4
 },
 "nbformat": 4,
 "nbformat_minor": 2
}
