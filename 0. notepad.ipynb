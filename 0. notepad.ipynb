{
 "cells": [
  {
   "cell_type": "code",
   "execution_count": null,
   "metadata": {},
   "outputs": [],
   "source": [
    "import numpy as np\n",
    "\n",
    "a = np.arange(12).reshape((3,-1))\n",
    "print(a)\n",
    "# a = np.transpose(a)\n",
    "# print(a)\n",
    "mean = np.mean(a, axis=0)\n",
    "print(mean)\n",
    "std = np.std(a, axis=0)\n",
    "print(std)\n",
    "a = (a - mean) / std\n",
    "print(a)"
   ]
  }
 ],
 "metadata": {
  "language_info": {
   "name": "python"
  },
  "orig_nbformat": 4
 },
 "nbformat": 4,
 "nbformat_minor": 2
}
